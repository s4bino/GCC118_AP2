{
  "nbformat": 4,
  "nbformat_minor": 0,
  "metadata": {
    "colab": {
      "provenance": []
    },
    "kernelspec": {
      "name": "python3",
      "display_name": "Python 3"
    },
    "language_info": {
      "name": "python"
    }
  },
  "cells": [
    {
      "cell_type": "markdown",
      "source": [
        "*   **Heitor Rodrigues Sabino** -  202120101\n",
        "*   **Ranulfo Mascari Neto** - 20212\n",
        "\n"
      ],
      "metadata": {
        "id": "LHCKo4COY4CY"
      }
    },
    {
      "cell_type": "markdown",
      "source": [
        "\n",
        "\n",
        "---\n",
        "\n"
      ],
      "metadata": {
        "id": "mS-WLqJjZ9Qe"
      }
    },
    {
      "cell_type": "markdown",
      "source": [
        "## **1. Definições do Problema**"
      ],
      "metadata": {
        "id": "W-EM0PLBcSjd"
      }
    },
    {
      "cell_type": "markdown",
      "source": [
        "#### **Variáveis:**\n",
        "\n"
      ],
      "metadata": {
        "id": "Rd4sGVGeeK9K"
      }
    },
    {
      "cell_type": "markdown",
      "source": [
        "- $ x_j $: quantidade (em gramas) do alimento $ j $ na dieta."
      ],
      "metadata": {
        "id": "SLZvKlgqeaCb"
      }
    },
    {
      "cell_type": "markdown",
      "source": [
        "\n",
        "#### **Parâmetros:**"
      ],
      "metadata": {
        "id": "HLvIH8PCeLWo"
      }
    },
    {
      "cell_type": "markdown",
      "source": [
        "\n",
        "\n",
        "- $ a_{ij} $: quantidade do nutriente $ i $ presente no alimento $ j $ (em % do VDR).\n",
        "- $ r_i $: valor diário recomendado para o nutriente $ i $ ($ r_i = 100 \\% $).\n",
        "- $ c_j $: custo do alimento $ j $.\n",
        "- $ f_{\\text{min}, j} $: limite inferior de consumo do alimento $ j $ ($ NA \\to 0 $).\n",
        "- $ f_{\\text{max}, j} $: limite superior de consumo do alimento $ j $ ($ NA \\to \\infty $)."
      ],
      "metadata": {
        "id": "NrkQdA49Z-oU"
      }
    },
    {
      "cell_type": "markdown",
      "source": [
        "### **Objetivo:**"
      ],
      "metadata": {
        "id": "6R6lG3nbcN9O"
      }
    },
    {
      "cell_type": "markdown",
      "source": [
        "- Minimizar o custo total da dieta:\n",
        "$\n",
        "\\text{Minimizar } \\sum_{j=1}^n c_j \\cdot x_j\n",
        "$"
      ],
      "metadata": {
        "id": "yqcof5z5bwdb"
      }
    },
    {
      "cell_type": "markdown",
      "source": [
        "### **Restrições:**"
      ],
      "metadata": {
        "id": "JN20OuIHcz1Q"
      }
    },
    {
      "cell_type": "markdown",
      "source": [
        "1. Garantir que cada nutriente $ i $ atenda ao valor diário recomendado:\n",
        "$\n",
        "\\sum_{j=1}^n a_{ij} \\cdot x_j \\geq r_i, \\quad \\forall i = 1, \\dots, m\n",
        "$"
      ],
      "metadata": {
        "id": "VsTs04azcdtY"
      }
    },
    {
      "cell_type": "markdown",
      "source": [
        "2. Limitar as quantidades de cada alimento aos valores permitidos:\n",
        "$\n",
        "f_{\\text{min}, j} \\leq x_j \\leq f_{\\text{max}, j}, \\quad \\forall j = 1, \\dots, n\n",
        "$"
      ],
      "metadata": {
        "id": "gDQOi44AdFKI"
      }
    },
    {
      "cell_type": "markdown",
      "source": [
        "## **2. Implementação**"
      ],
      "metadata": {
        "id": "SW5mFL5afgjp"
      }
    },
    {
      "cell_type": "markdown",
      "source": [
        "### ***pip* e importações**"
      ],
      "metadata": {
        "id": "Pn1SOwtqf7FD"
      }
    },
    {
      "cell_type": "code",
      "source": [
        "!pip install gurobipy"
      ],
      "metadata": {
        "colab": {
          "base_uri": "https://localhost:8080/"
        },
        "id": "TI9inw4Aft0m",
        "outputId": "667e10c9-b7d9-4a07-9dcf-e16e59949424"
      },
      "execution_count": 1,
      "outputs": [
        {
          "output_type": "stream",
          "name": "stdout",
          "text": [
            "Requirement already satisfied: gurobipy in /usr/local/lib/python3.10/dist-packages (12.0.0)\n"
          ]
        }
      ]
    },
    {
      "cell_type": "code",
      "source": [
        "from gurobipy import Model, GRB\n",
        "import pandas as pd"
      ],
      "metadata": {
        "id": "nbTZUZG-frSX"
      },
      "execution_count": 2,
      "outputs": []
    },
    {
      "cell_type": "markdown",
      "source": [
        "### **Dados**\n"
      ],
      "metadata": {
        "id": "ldMLxXRKgTpC"
      }
    },
    {
      "cell_type": "markdown",
      "source": [
        "#### **Alimentando base de dados**"
      ],
      "metadata": {
        "id": "KUB9mvL9jWj2"
      }
    },
    {
      "cell_type": "code",
      "source": [
        "df1 = pd.read_csv(\"McDonalds-amnt.wsv\", sep='\\s+',  comment='#')\n",
        "df2 = pd.read_csv(\"McDonalds-food.wsv\", sep='\\s+',  comment='#')\n",
        "nutrientes = pd.read_csv(\"McDonalds-nutr.wsv\", sep='\\s+',  comment='#')"
      ],
      "metadata": {
        "id": "96DGYW0ag2-W"
      },
      "execution_count": 3,
      "outputs": []
    },
    {
      "cell_type": "code",
      "source": [
        "alimentos = pd.merge(df1, df2, on=\"FOOD\", how=\"inner\")  # Tabela 1 e Tabela 2 combinadas"
      ],
      "metadata": {
        "id": "gP6EUWHQfqA7"
      },
      "execution_count": 4,
      "outputs": []
    },
    {
      "cell_type": "markdown",
      "source": [
        "#### **Tratando**"
      ],
      "metadata": {
        "id": "aKt_a4rfja-v"
      }
    },
    {
      "cell_type": "code",
      "source": [
        "# Preencher valores padrões para NA\n",
        "alimentos['f_min'] = alimentos['f_min'].fillna(0)\n",
        "alimentos['f_max'] = alimentos['f_max'].fillna(float('inf'))\n",
        "alimentos.head()"
      ],
      "metadata": {
        "colab": {
          "base_uri": "https://localhost:8080/",
          "height": 313
        },
        "id": "AsGSTHvBjVpZ",
        "outputId": "84d7f61a-5d84-401a-84e8-e04b40027605"
      },
      "execution_count": 5,
      "outputs": [
        {
          "output_type": "execute_result",
          "data": {
            "text/plain": [
              "                   FOOD  Energia  Carb.  Prot.  G. Total  G. Sat.  Colest.  \\\n",
              "0               Big Mac       25     14     33        49       55       18   \n",
              "1             Big Tasty       42     15     55       100      109       35   \n",
              "2  Quarterão com Queijo       28     12     41        58       73       29   \n",
              "3        McNífico Bacon       31     13     45        67       73       31   \n",
              "4        Cheddar McMelt       25     11     39        53       64       27   \n",
              "\n",
              "   Fibra  Sódio  Cálcio  Ferro  cost  f_min  f_max    veg  \n",
              "0     14     40      19     46   6.9    0.0    inf  False  \n",
              "1     20     63      38     59   9.4    0.0    inf  False  \n",
              "2     14     51      28     71   6.4    0.0    inf  False  \n",
              "3     16     52      21     79   7.9    0.0    inf  False  \n",
              "4     12     34      20     71   6.9    0.0    inf  False  "
            ],
            "text/html": [
              "\n",
              "  <div id=\"df-93bc64fe-9a3e-4280-bb08-519fff1ea5af\" class=\"colab-df-container\">\n",
              "    <div>\n",
              "<style scoped>\n",
              "    .dataframe tbody tr th:only-of-type {\n",
              "        vertical-align: middle;\n",
              "    }\n",
              "\n",
              "    .dataframe tbody tr th {\n",
              "        vertical-align: top;\n",
              "    }\n",
              "\n",
              "    .dataframe thead th {\n",
              "        text-align: right;\n",
              "    }\n",
              "</style>\n",
              "<table border=\"1\" class=\"dataframe\">\n",
              "  <thead>\n",
              "    <tr style=\"text-align: right;\">\n",
              "      <th></th>\n",
              "      <th>FOOD</th>\n",
              "      <th>Energia</th>\n",
              "      <th>Carb.</th>\n",
              "      <th>Prot.</th>\n",
              "      <th>G. Total</th>\n",
              "      <th>G. Sat.</th>\n",
              "      <th>Colest.</th>\n",
              "      <th>Fibra</th>\n",
              "      <th>Sódio</th>\n",
              "      <th>Cálcio</th>\n",
              "      <th>Ferro</th>\n",
              "      <th>cost</th>\n",
              "      <th>f_min</th>\n",
              "      <th>f_max</th>\n",
              "      <th>veg</th>\n",
              "    </tr>\n",
              "  </thead>\n",
              "  <tbody>\n",
              "    <tr>\n",
              "      <th>0</th>\n",
              "      <td>Big Mac</td>\n",
              "      <td>25</td>\n",
              "      <td>14</td>\n",
              "      <td>33</td>\n",
              "      <td>49</td>\n",
              "      <td>55</td>\n",
              "      <td>18</td>\n",
              "      <td>14</td>\n",
              "      <td>40</td>\n",
              "      <td>19</td>\n",
              "      <td>46</td>\n",
              "      <td>6.9</td>\n",
              "      <td>0.0</td>\n",
              "      <td>inf</td>\n",
              "      <td>False</td>\n",
              "    </tr>\n",
              "    <tr>\n",
              "      <th>1</th>\n",
              "      <td>Big Tasty</td>\n",
              "      <td>42</td>\n",
              "      <td>15</td>\n",
              "      <td>55</td>\n",
              "      <td>100</td>\n",
              "      <td>109</td>\n",
              "      <td>35</td>\n",
              "      <td>20</td>\n",
              "      <td>63</td>\n",
              "      <td>38</td>\n",
              "      <td>59</td>\n",
              "      <td>9.4</td>\n",
              "      <td>0.0</td>\n",
              "      <td>inf</td>\n",
              "      <td>False</td>\n",
              "    </tr>\n",
              "    <tr>\n",
              "      <th>2</th>\n",
              "      <td>Quarterão com Queijo</td>\n",
              "      <td>28</td>\n",
              "      <td>12</td>\n",
              "      <td>41</td>\n",
              "      <td>58</td>\n",
              "      <td>73</td>\n",
              "      <td>29</td>\n",
              "      <td>14</td>\n",
              "      <td>51</td>\n",
              "      <td>28</td>\n",
              "      <td>71</td>\n",
              "      <td>6.4</td>\n",
              "      <td>0.0</td>\n",
              "      <td>inf</td>\n",
              "      <td>False</td>\n",
              "    </tr>\n",
              "    <tr>\n",
              "      <th>3</th>\n",
              "      <td>McNífico Bacon</td>\n",
              "      <td>31</td>\n",
              "      <td>13</td>\n",
              "      <td>45</td>\n",
              "      <td>67</td>\n",
              "      <td>73</td>\n",
              "      <td>31</td>\n",
              "      <td>16</td>\n",
              "      <td>52</td>\n",
              "      <td>21</td>\n",
              "      <td>79</td>\n",
              "      <td>7.9</td>\n",
              "      <td>0.0</td>\n",
              "      <td>inf</td>\n",
              "      <td>False</td>\n",
              "    </tr>\n",
              "    <tr>\n",
              "      <th>4</th>\n",
              "      <td>Cheddar McMelt</td>\n",
              "      <td>25</td>\n",
              "      <td>11</td>\n",
              "      <td>39</td>\n",
              "      <td>53</td>\n",
              "      <td>64</td>\n",
              "      <td>27</td>\n",
              "      <td>12</td>\n",
              "      <td>34</td>\n",
              "      <td>20</td>\n",
              "      <td>71</td>\n",
              "      <td>6.9</td>\n",
              "      <td>0.0</td>\n",
              "      <td>inf</td>\n",
              "      <td>False</td>\n",
              "    </tr>\n",
              "  </tbody>\n",
              "</table>\n",
              "</div>\n",
              "    <div class=\"colab-df-buttons\">\n",
              "\n",
              "  <div class=\"colab-df-container\">\n",
              "    <button class=\"colab-df-convert\" onclick=\"convertToInteractive('df-93bc64fe-9a3e-4280-bb08-519fff1ea5af')\"\n",
              "            title=\"Convert this dataframe to an interactive table.\"\n",
              "            style=\"display:none;\">\n",
              "\n",
              "  <svg xmlns=\"http://www.w3.org/2000/svg\" height=\"24px\" viewBox=\"0 -960 960 960\">\n",
              "    <path d=\"M120-120v-720h720v720H120Zm60-500h600v-160H180v160Zm220 220h160v-160H400v160Zm0 220h160v-160H400v160ZM180-400h160v-160H180v160Zm440 0h160v-160H620v160ZM180-180h160v-160H180v160Zm440 0h160v-160H620v160Z\"/>\n",
              "  </svg>\n",
              "    </button>\n",
              "\n",
              "  <style>\n",
              "    .colab-df-container {\n",
              "      display:flex;\n",
              "      gap: 12px;\n",
              "    }\n",
              "\n",
              "    .colab-df-convert {\n",
              "      background-color: #E8F0FE;\n",
              "      border: none;\n",
              "      border-radius: 50%;\n",
              "      cursor: pointer;\n",
              "      display: none;\n",
              "      fill: #1967D2;\n",
              "      height: 32px;\n",
              "      padding: 0 0 0 0;\n",
              "      width: 32px;\n",
              "    }\n",
              "\n",
              "    .colab-df-convert:hover {\n",
              "      background-color: #E2EBFA;\n",
              "      box-shadow: 0px 1px 2px rgba(60, 64, 67, 0.3), 0px 1px 3px 1px rgba(60, 64, 67, 0.15);\n",
              "      fill: #174EA6;\n",
              "    }\n",
              "\n",
              "    .colab-df-buttons div {\n",
              "      margin-bottom: 4px;\n",
              "    }\n",
              "\n",
              "    [theme=dark] .colab-df-convert {\n",
              "      background-color: #3B4455;\n",
              "      fill: #D2E3FC;\n",
              "    }\n",
              "\n",
              "    [theme=dark] .colab-df-convert:hover {\n",
              "      background-color: #434B5C;\n",
              "      box-shadow: 0px 1px 3px 1px rgba(0, 0, 0, 0.15);\n",
              "      filter: drop-shadow(0px 1px 2px rgba(0, 0, 0, 0.3));\n",
              "      fill: #FFFFFF;\n",
              "    }\n",
              "  </style>\n",
              "\n",
              "    <script>\n",
              "      const buttonEl =\n",
              "        document.querySelector('#df-93bc64fe-9a3e-4280-bb08-519fff1ea5af button.colab-df-convert');\n",
              "      buttonEl.style.display =\n",
              "        google.colab.kernel.accessAllowed ? 'block' : 'none';\n",
              "\n",
              "      async function convertToInteractive(key) {\n",
              "        const element = document.querySelector('#df-93bc64fe-9a3e-4280-bb08-519fff1ea5af');\n",
              "        const dataTable =\n",
              "          await google.colab.kernel.invokeFunction('convertToInteractive',\n",
              "                                                    [key], {});\n",
              "        if (!dataTable) return;\n",
              "\n",
              "        const docLinkHtml = 'Like what you see? Visit the ' +\n",
              "          '<a target=\"_blank\" href=https://colab.research.google.com/notebooks/data_table.ipynb>data table notebook</a>'\n",
              "          + ' to learn more about interactive tables.';\n",
              "        element.innerHTML = '';\n",
              "        dataTable['output_type'] = 'display_data';\n",
              "        await google.colab.output.renderOutput(dataTable, element);\n",
              "        const docLink = document.createElement('div');\n",
              "        docLink.innerHTML = docLinkHtml;\n",
              "        element.appendChild(docLink);\n",
              "      }\n",
              "    </script>\n",
              "  </div>\n",
              "\n",
              "\n",
              "<div id=\"df-9fceabfb-43bd-4a40-be59-32c001497d75\">\n",
              "  <button class=\"colab-df-quickchart\" onclick=\"quickchart('df-9fceabfb-43bd-4a40-be59-32c001497d75')\"\n",
              "            title=\"Suggest charts\"\n",
              "            style=\"display:none;\">\n",
              "\n",
              "<svg xmlns=\"http://www.w3.org/2000/svg\" height=\"24px\"viewBox=\"0 0 24 24\"\n",
              "     width=\"24px\">\n",
              "    <g>\n",
              "        <path d=\"M19 3H5c-1.1 0-2 .9-2 2v14c0 1.1.9 2 2 2h14c1.1 0 2-.9 2-2V5c0-1.1-.9-2-2-2zM9 17H7v-7h2v7zm4 0h-2V7h2v10zm4 0h-2v-4h2v4z\"/>\n",
              "    </g>\n",
              "</svg>\n",
              "  </button>\n",
              "\n",
              "<style>\n",
              "  .colab-df-quickchart {\n",
              "      --bg-color: #E8F0FE;\n",
              "      --fill-color: #1967D2;\n",
              "      --hover-bg-color: #E2EBFA;\n",
              "      --hover-fill-color: #174EA6;\n",
              "      --disabled-fill-color: #AAA;\n",
              "      --disabled-bg-color: #DDD;\n",
              "  }\n",
              "\n",
              "  [theme=dark] .colab-df-quickchart {\n",
              "      --bg-color: #3B4455;\n",
              "      --fill-color: #D2E3FC;\n",
              "      --hover-bg-color: #434B5C;\n",
              "      --hover-fill-color: #FFFFFF;\n",
              "      --disabled-bg-color: #3B4455;\n",
              "      --disabled-fill-color: #666;\n",
              "  }\n",
              "\n",
              "  .colab-df-quickchart {\n",
              "    background-color: var(--bg-color);\n",
              "    border: none;\n",
              "    border-radius: 50%;\n",
              "    cursor: pointer;\n",
              "    display: none;\n",
              "    fill: var(--fill-color);\n",
              "    height: 32px;\n",
              "    padding: 0;\n",
              "    width: 32px;\n",
              "  }\n",
              "\n",
              "  .colab-df-quickchart:hover {\n",
              "    background-color: var(--hover-bg-color);\n",
              "    box-shadow: 0 1px 2px rgba(60, 64, 67, 0.3), 0 1px 3px 1px rgba(60, 64, 67, 0.15);\n",
              "    fill: var(--button-hover-fill-color);\n",
              "  }\n",
              "\n",
              "  .colab-df-quickchart-complete:disabled,\n",
              "  .colab-df-quickchart-complete:disabled:hover {\n",
              "    background-color: var(--disabled-bg-color);\n",
              "    fill: var(--disabled-fill-color);\n",
              "    box-shadow: none;\n",
              "  }\n",
              "\n",
              "  .colab-df-spinner {\n",
              "    border: 2px solid var(--fill-color);\n",
              "    border-color: transparent;\n",
              "    border-bottom-color: var(--fill-color);\n",
              "    animation:\n",
              "      spin 1s steps(1) infinite;\n",
              "  }\n",
              "\n",
              "  @keyframes spin {\n",
              "    0% {\n",
              "      border-color: transparent;\n",
              "      border-bottom-color: var(--fill-color);\n",
              "      border-left-color: var(--fill-color);\n",
              "    }\n",
              "    20% {\n",
              "      border-color: transparent;\n",
              "      border-left-color: var(--fill-color);\n",
              "      border-top-color: var(--fill-color);\n",
              "    }\n",
              "    30% {\n",
              "      border-color: transparent;\n",
              "      border-left-color: var(--fill-color);\n",
              "      border-top-color: var(--fill-color);\n",
              "      border-right-color: var(--fill-color);\n",
              "    }\n",
              "    40% {\n",
              "      border-color: transparent;\n",
              "      border-right-color: var(--fill-color);\n",
              "      border-top-color: var(--fill-color);\n",
              "    }\n",
              "    60% {\n",
              "      border-color: transparent;\n",
              "      border-right-color: var(--fill-color);\n",
              "    }\n",
              "    80% {\n",
              "      border-color: transparent;\n",
              "      border-right-color: var(--fill-color);\n",
              "      border-bottom-color: var(--fill-color);\n",
              "    }\n",
              "    90% {\n",
              "      border-color: transparent;\n",
              "      border-bottom-color: var(--fill-color);\n",
              "    }\n",
              "  }\n",
              "</style>\n",
              "\n",
              "  <script>\n",
              "    async function quickchart(key) {\n",
              "      const quickchartButtonEl =\n",
              "        document.querySelector('#' + key + ' button');\n",
              "      quickchartButtonEl.disabled = true;  // To prevent multiple clicks.\n",
              "      quickchartButtonEl.classList.add('colab-df-spinner');\n",
              "      try {\n",
              "        const charts = await google.colab.kernel.invokeFunction(\n",
              "            'suggestCharts', [key], {});\n",
              "      } catch (error) {\n",
              "        console.error('Error during call to suggestCharts:', error);\n",
              "      }\n",
              "      quickchartButtonEl.classList.remove('colab-df-spinner');\n",
              "      quickchartButtonEl.classList.add('colab-df-quickchart-complete');\n",
              "    }\n",
              "    (() => {\n",
              "      let quickchartButtonEl =\n",
              "        document.querySelector('#df-9fceabfb-43bd-4a40-be59-32c001497d75 button');\n",
              "      quickchartButtonEl.style.display =\n",
              "        google.colab.kernel.accessAllowed ? 'block' : 'none';\n",
              "    })();\n",
              "  </script>\n",
              "</div>\n",
              "\n",
              "    </div>\n",
              "  </div>\n"
            ],
            "application/vnd.google.colaboratory.intrinsic+json": {
              "type": "dataframe",
              "variable_name": "alimentos",
              "repr_error": "Out of range float values are not JSON compliant: inf"
            }
          },
          "metadata": {},
          "execution_count": 5
        }
      ]
    },
    {
      "cell_type": "markdown",
      "source": [
        "#### **Extrair parâmetros**"
      ],
      "metadata": {
        "id": "HKCZG6hgmwQk"
      }
    },
    {
      "cell_type": "code",
      "source": [
        "a_ij = alimentos.iloc[:, 1:len(nutrientes)+1].values.T  # Quantidades de nutrientes nos alimentos\n",
        "c_j = alimentos['cost'].values  # Custos dos alimentos\n",
        "f_min = alimentos['f_min'].values  # Limites inferiores\n",
        "f_max = alimentos['f_max'].values  # Limites superiores\n",
        "r_i = nutrientes['n_min'].values  # VDR dos nutrientes"
      ],
      "metadata": {
        "id": "_lQB_6m0mv9c"
      },
      "execution_count": 15,
      "outputs": []
    },
    {
      "cell_type": "markdown",
      "source": [
        "### **Modelo**"
      ],
      "metadata": {
        "id": "pIuGbTOxnUeU"
      }
    },
    {
      "cell_type": "code",
      "source": [
        "model = Model(\"DietaÓtima\")"
      ],
      "metadata": {
        "id": "Cv6CB0oynd5-"
      },
      "execution_count": 16,
      "outputs": []
    },
    {
      "cell_type": "markdown",
      "source": [
        "#### **Variáveis de decisão: quantidades dos alimentos**"
      ],
      "metadata": {
        "id": "yHTUa3ANn2hC"
      }
    },
    {
      "cell_type": "code",
      "source": [
        "x = model.addVars(len(c_j), lb=f_min, ub=f_max, vtype=GRB.CONTINUOUS, name=\"x\")"
      ],
      "metadata": {
        "id": "wC5CoJ89ngJR"
      },
      "execution_count": 17,
      "outputs": []
    },
    {
      "cell_type": "markdown",
      "source": [
        "#### **Função objetivo: minimizar custo total**"
      ],
      "metadata": {
        "id": "7IY0lmRKn5so"
      }
    },
    {
      "cell_type": "code",
      "source": [
        "model.setObjective(sum(c_j[j] * x[j] for j in range(len(c_j))), GRB.MINIMIZE)"
      ],
      "metadata": {
        "id": "9H7GxEMjnsQ1"
      },
      "execution_count": 18,
      "outputs": []
    },
    {
      "cell_type": "markdown",
      "source": [
        "#### **Restrições: atender ao VDR de cada nutriente**"
      ],
      "metadata": {
        "id": "6-niZjuRn_-y"
      }
    },
    {
      "cell_type": "code",
      "source": [
        "# Restrições: atender ao VDR de cada nutriente\n",
        "for i in range(len(r_i)):\n",
        "    model.addConstr(sum(a_ij[i][j] * x[j] for j in range(len(c_j))) >= r_i[i], name=f\"Nutriente_{i}\")"
      ],
      "metadata": {
        "id": "287gzCTinvRY"
      },
      "execution_count": 27,
      "outputs": []
    },
    {
      "cell_type": "markdown",
      "source": [
        "#### **Resolver o modelo**"
      ],
      "metadata": {
        "id": "cxJ-tn0MoJdg"
      }
    },
    {
      "cell_type": "code",
      "source": [
        "model.optimize()"
      ],
      "metadata": {
        "id": "xkl68he7nxBK"
      },
      "execution_count": null,
      "outputs": []
    },
    {
      "cell_type": "code",
      "source": [
        "# Resultados\n",
        "if model.status == GRB.OPTIMAL:\n",
        "    print(\"Custo mínimo:\", model.objVal)\n",
        "    print(\"Quantidades ótimas dos alimentos:\")\n",
        "    for j in range(len(c_j)):\n",
        "        print(f\"{alimentos.iloc[j]['FOOD']}: {x[j].x} g\")\n",
        "else:\n",
        "    print(\"Não foi encontrada uma solução ótima.\")"
      ],
      "metadata": {
        "id": "UwI1fSrYnycL"
      },
      "execution_count": null,
      "outputs": []
    },
    {
      "cell_type": "markdown",
      "source": [
        "\n",
        "\n",
        "---\n",
        "\n"
      ],
      "metadata": {
        "id": "YOrAYu-M5L7f"
      }
    },
    {
      "cell_type": "markdown",
      "source": [
        "## **3. Análise de Sensibilidade**"
      ],
      "metadata": {
        "id": "07O2S3cI1tjC"
      }
    },
    {
      "cell_type": "code",
      "source": [
        "var_data = []\n",
        "for variavel in model.getVars():\n",
        "    var_data.append({\n",
        "        \"Variável\": variavel.VarName,\n",
        "        \"SAObjLow (Custo Min)\": variavel.SAObjLow,\n",
        "        \"SAObjUp (Custo Max)\": variavel.SAObjUp,\n",
        "    })\n",
        "\n",
        "var_df = pd.DataFrame(var_data)\n",
        "\n",
        "print(\"\\nAnálise de Sensibilidade - Variáveis:\")\n",
        "print(var_df)\n",
        "\n",
        "constr_data = []\n",
        "for restricao in model.getConstrs():\n",
        "    constr_data.append({\n",
        "        \"Restrição\": restricao.ConstrName,\n",
        "        \"SARHSLow (Recurso Min)\": restricao.SARHSLow,\n",
        "        \"SARHSUp (Recurso Max)\": restricao.SARHSUp,\n",
        "    })\n",
        "\n",
        "constr_df = pd.DataFrame(constr_data)\n",
        "\n",
        "print(\"\\nAnálise de Sensibilidade - Restrições:\")\n",
        "print(constr_df)\n",
        "\n",
        "var_df.to_csv(\"sensibilidade_variaveis.csv\", index=False)\n",
        "constr_df.to_csv(\"sensibilidade_restricoes.csv\", index=False)"
      ],
      "metadata": {
        "colab": {
          "base_uri": "https://localhost:8080/"
        },
        "id": "k-50p6wN1_ZI",
        "outputId": "05f01693-09ed-41eb-856d-ca3da42801ca"
      },
      "execution_count": 28,
      "outputs": [
        {
          "output_type": "stream",
          "name": "stdout",
          "text": [
            "\n",
            "Análise de Sensibilidade - Variáveis:\n",
            "   Variável  SAObjLow (Custo Min)  SAObjUp (Custo Max)\n",
            "0      x[0]              3.895413                  inf\n",
            "1      x[1]              6.279817                  inf\n",
            "2      x[2]              5.077064                  inf\n",
            "3      x[3]              5.477982                  inf\n",
            "4      x[4]              4.676147                  inf\n",
            "..      ...                   ...                  ...\n",
            "79    x[79]              1.112844                  inf\n",
            "80    x[80]              1.077982                  inf\n",
            "81    x[81]              1.311009                  inf\n",
            "82    x[82]              0.506494             2.303457\n",
            "83    x[83]              1.307339                  inf\n",
            "\n",
            "[84 rows x 3 columns]\n",
            "\n",
            "Análise de Sensibilidade - Restrições:\n",
            "     Restrição  SARHSLow (Recurso Min)  SARHSUp (Recurso Max)\n",
            "0  Nutriente_0                    -inf             136.697248\n",
            "1  Nutriente_1               82.170543             296.428571\n",
            "2  Nutriente_2                    -inf             163.302752\n",
            "3  Nutriente_3                    -inf             214.678899\n",
            "4  Nutriente_4                    -inf             286.697248\n",
            "5  Nutriente_5               60.184651             153.191489\n",
            "6  Nutriente_6               54.545455             146.296296\n",
            "7  Nutriente_7                    -inf             190.825688\n",
            "8  Nutriente_8                    -inf             121.100917\n",
            "9  Nutriente_9                    -inf             209.633028\n"
          ]
        }
      ]
    },
    {
      "cell_type": "markdown",
      "source": [
        "### **Interpretação dos Valores da Análise de Sensibilidade**"
      ],
      "metadata": {
        "id": "UQwvXSkH3nKa"
      }
    },
    {
      "cell_type": "markdown",
      "source": [
        "#### **Vetor de Custos (Variáveis):**\n",
        "\n",
        "Os valores **SAObjLow** e **SAObjUp** mostram o quão sensível a solução ótima é às mudanças no custo das variáveis de decisão:\n",
        "\n",
        "1. **Variáveis com limite superior infinito (`inf`)**:\n",
        "   - Indicam que o custo dessas variáveis pode aumentar indefinidamente sem alterar a solução ótima.\n",
        "   - Isso reflete que, na solução atual, essas variáveis têm uma importância menor para o custo total ou que há flexibilidade em sua utilização.\n",
        "\n",
        "2. **Variáveis com limites mais estreitos**:\n",
        "   - Indicam maior sensibilidade, ou seja, pequenas mudanças nos custos dessas variáveis podem tornar a solução ótima inválida.\n",
        "   - Estas variáveis estão mais próximas de serem competitivas com outras alternativas.\n",
        "\n",
        "**Exemplo:**  \n",
        "Se uma variável tem **SAObjLow = 5.0** e **SAObjUp = 7.0**, isso significa que, enquanto o custo dessa variável estiver entre 5 e 7, a solução ótima permanecerá a mesma. Se sair desse intervalo, outras variáveis ou combinações podem ser ativadas na solução.\n",
        "\n",
        "---\n",
        "\n",
        "#### **Vetor de Recursos (Restrições):**\n",
        "\n",
        "Os valores **SARHSLow** e **SARHSUp** indicam a faixa de variação do recurso permitido sem alterar a solução ótima:\n",
        "\n",
        "1. **Restrições com limite inferior negativo infinito (`-inf`)**:\n",
        "   - Indicam que reduzir o recurso associado não altera a solução, desde que o valor do recurso não ultrapasse o limite superior.\n",
        "   - Essas restrições são menos críticas e têm maior flexibilidade.\n",
        "\n",
        "2. **Restrições com limites mais estreitos**:\n",
        "   - Restrições sensíveis, onde pequenas alterações no recurso disponível podem invalidar a solução ótima.\n",
        "   - Tais restrições geralmente são \"restrições ativas\", ou seja, estão no limite de viabilidade na solução.\n",
        "\n",
        "**Exemplo:**  \n",
        "Se uma restrição tem **SARHSLow = 100** e **SARHSUp = 200**, isso significa que o recurso disponível pode variar entre 100 e 200 sem alterar a solução. Valores fora desse intervalo podem tornar a solução inviável ou alterar as variáveis ativas.\n"
      ],
      "metadata": {
        "id": "1A5Ajs1j-TmR"
      }
    },
    {
      "cell_type": "markdown",
      "source": [
        "## **4. Dieta Ótima Vegetariana**"
      ],
      "metadata": {
        "id": "ChGAiaWm_cCX"
      }
    },
    {
      "cell_type": "markdown",
      "source": [
        "Na tabela de alimentos, existe uma coluna chamada `veg`, que indica se o alimento é vegetariano (`True`) ou não (`False`). Para calcular a dieta ótima vegetariana, filtraremos os dados para considerar apenas os alimentos marcados como vegetarianos."
      ],
      "metadata": {
        "id": "GvKr4T45LIP7"
      }
    },
    {
      "cell_type": "code",
      "source": [
        "# Filtrar apenas os alimentos vegetarianos\n",
        "alimentos_veg = alimentos[alimentos['veg'] == True]\n",
        "\n",
        "a_ij = alimentos_veg.iloc[:, 1:len(nutrientes)+1].values.T  # Nutrientes por alimento\n",
        "c_j = alimentos_veg['cost'].values  # Custos dos alimentos vegetarianos\n",
        "f_min = alimentos_veg['f_min'].values  # Limites inferiores\n",
        "f_max = alimentos_veg['f_max'].values  # Limites superiores\n",
        "r_i = nutrientes['n_min'].values  # VDR dos nutrientes\n",
        "\n",
        "model = Model(\"DietaVegetariana\")\n",
        "\n",
        "# Variáveis de decisão: quantidades dos alimentos vegetarianos\n",
        "x = model.addVars(len(c_j), lb=f_min, ub=f_max, vtype=GRB.CONTINUOUS, name=\"x\")\n",
        "\n",
        "# Função objetivo\n",
        "model.setObjective(sum(c_j[j] * x[j] for j in range(len(c_j))), GRB.MINIMIZE)\n",
        "\n",
        "# Restrições\n",
        "for i in range(len(r_i)):\n",
        "    model.addConstr(sum(a_ij[i][j] * x[j] for j in range(len(c_j))) >= r_i[i], name=f\"Nutriente_{i}\")\n",
        "\n",
        "# Resultados\n",
        "model.optimize()\n",
        "\n",
        "if model.status == GRB.OPTIMAL:\n",
        "    print(\"Custo mínimo para dieta vegetariana:\", model.objVal)\n",
        "    print(\"Quantidades ótimas dos alimentos vegetarianos:\")\n",
        "    for j in range(len(c_j)):\n",
        "        if x[j].x > 0:  # Exibir apenas alimentos com quantidades positivas\n",
        "            print(f\"{alimentos_veg.iloc[j]['FOOD']}: {x[j].x} g\")\n",
        "else:\n",
        "    print(\"Não foi encontrada uma solução ótima.\")\n"
      ],
      "metadata": {
        "id": "U0InA73R_m_e"
      },
      "execution_count": null,
      "outputs": []
    },
    {
      "cell_type": "markdown",
      "source": [
        "## **5. Alimentos únicos**"
      ],
      "metadata": {
        "id": "23gGS5ufIQmV"
      }
    },
    {
      "cell_type": "markdown",
      "source": [
        "As variáveis de decisão $ x_j $ passam a ser **binárias** ($ x_j = 0 $ ou $ x_j = 1 $), representando se o alimento $ j $ será consumido ($ 1 $) ou não ($ 0 $).\n",
        "- Para garantir que os nutrientes sejam atendidos, assumimos que o alimento é consumido **uma única vez na porção padrão** (exemplo: $ 1 $ unidade ou porção definida na tabela).\n",
        "- O custo total será calculado somando apenas os alimentos selecionados."
      ],
      "metadata": {
        "id": "K3v4S24_KtOe"
      }
    },
    {
      "cell_type": "code",
      "source": [
        "a_ij = alimentos.iloc[:, 1:len(nutrientes)+1].values.T  # Nutrientes por alimento (transposto)\n",
        "c_j = alimentos['cost'].values  # Custos dos alimentos\n",
        "r_i = nutrientes['n_min'].values  # VDR dos nutrientes\n",
        "\n",
        "model = Model(\"DietaUmaVez\")\n",
        "\n",
        "# Variáveis de decisão: 0 ou 1 (consumir ou não consumir o alimento)\n",
        "x = model.addVars(len(c_j), vtype=GRB.BINARY, name=\"x\")\n",
        "\n",
        "# Função objetivo\n",
        "model.setObjective(sum(c_j[j] * x[j] for j in range(len(c_j))), GRB.MINIMIZE)\n",
        "\n",
        "# Restrições\n",
        "for i in range(len(r_i)):\n",
        "    model.addConstr(sum(a_ij[i][j] * x[j] for j in range(len(c_j))) >= r_i[i], name=f\"Nutriente_{i}\")\n",
        "\n",
        "# Resultados\n",
        "model.optimize()\n",
        "\n",
        "if model.status == GRB.OPTIMAL:\n",
        "    print(\"Custo mínimo para dieta com alimentos únicos:\", model.objVal)\n",
        "    print(\"Alimentos selecionados:\")\n",
        "    for j in range(len(c_j)):\n",
        "        if x[j].x > 0.5:  # Exibir apenas os alimentos selecionados\n",
        "            print(f\"{alimentos.iloc[j]['FOOD']}: Consumido 1 vez\")\n",
        "else:\n",
        "    print(\"Não foi encontrada uma solução ótima.\")\n"
      ],
      "metadata": {
        "id": "HBPyBwbJIZt1"
      },
      "execution_count": null,
      "outputs": []
    },
    {
      "cell_type": "markdown",
      "source": [
        "#### *`Observações:`*\n",
        "- Considerei como se a pessoa pudesse somente comer um alimento inteiro, não considerando que ele possa comer metade de uma maçã, por exemplo. Por isso a variável binária."
      ],
      "metadata": {
        "id": "mN21KQ_4JrhI"
      }
    }
  ]
}