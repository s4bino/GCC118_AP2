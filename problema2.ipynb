{
  "nbformat": 4,
  "nbformat_minor": 0,
  "metadata": {
    "colab": {
      "provenance": []
    },
    "kernelspec": {
      "name": "python3",
      "display_name": "Python 3"
    },
    "language_info": {
      "name": "python"
    }
  },
  "cells": [
    {
      "cell_type": "markdown",
      "source": [
        "# Programação Matemática (GCC118)\n",
        "## Universidade Federal de Lavras (UFLA)\n",
        "### Instituto de Ciências Exatas e Tecnológicas\n",
        "\n",
        "#### Grupo\n",
        "- Ranulfo Mascari Neto\n",
        "- Heitor Rodrigues Sabino"
      ],
      "metadata": {
        "id": "uiY_dleGdGLy"
      }
    },
    {
      "cell_type": "markdown",
      "source": [
        "## Problema 2: Empresa Transportadora de Óleos\n",
        "\n",
        "Uma empresa transporta óleo de uma estação $A$ para uma estação $B$. Existe uma rota **norte** e uma rota **sul**, ambas com uma estação intermediária. Ainda existe uma ligação entre a estação intermediária sul e a estação intermediária norte. Abaixo estão as capacidades máximas de transporte (em barris por dia) para cada trecho do percurso:\n",
        "\n",
        "- **De A para Norte**: 300 barris/dia.\n",
        "- **De A para Sul**: 500 barris/dia.\n",
        "- **De Sul para Norte**: 300 barris/dia.\n",
        "- **De Norte para B**: 400 barris/dia.\n",
        "- **De Sul para B**: 300 barris/dia.\n",
        "\n",
        "Formule um programa linear, utilizando *gurobipy*, que **maximiza os barris por dia transportados de $A$ para $B$**. Faça uma **análise de sensibilidade**, e discuta o que tal análise reportará."
      ],
      "metadata": {
        "id": "QoHuX-2gdc6-"
      }
    },
    {
      "cell_type": "markdown",
      "source": [
        "### Modelagem Matemática\n",
        "A seguir, apresentaremos a modelagem matemática deste problema, especificando os principais elementos da modelagem de um problema de programação matemática: $(i)$ parâmetros (dados); $(ii)$ variáveis de decisão; $(iii)$ modelagem, composta por uma função objetivo, restrições do problema e restrições de domínio das variáveis de decisão.\n",
        "\n",
        "---\n",
        "\n",
        "*Observação: A maximização do transporte de barris de óleo de $A$ para $B$ pode ser modelada como um problema de fluxo máximo em um grafo direcionado. Cada nó representa uma estação, e cada aresta representa a capacidade máxima de transporte de barris de óleo por dia.*\n",
        "\n",
        "---\n",
        "\n",
        "Segue o problema de otimização linear modelado como um problema de fluxo máximo:\n",
        "\n",
        "#### $(i)$ Parâmetros\n",
        "\n",
        "- **Capacidade de Transporte**:\n",
        "  - $c_{ij} \\in \\mathbb{R}_+$: capacidade máxima de transporte de barris por dia entre os nós $i$ e $j$, onde $i, j \\in \\{A, N, S, B\\}$.\n",
        "    - $c_{A,N} = 300$ (de A para Norte)\n",
        "    - $c_{A,S} = 500$ (de A para Sul)\n",
        "    - $c_{S,N} = 300$ (de Sul para Norte)\n",
        "    - $c_{N,B} = 400$ (de Norte para B)\n",
        "    - $c_{S,B} = 300$ (de Sul para B)\n",
        "\n",
        "- **Nós**:\n",
        "  - **Estações**:\n",
        "    - $\\{A, N, S, B\\}$: conjunto dos nós do grafo, representando as estações A, Norte, Sul e B.\n",
        "\n",
        "---\n",
        "\n",
        "#### $(ii)$ Variáveis de Decisão\n",
        "\n",
        "- $x_{ij} \\in \\mathbb{R}_+$: fluxo de barris de óleo transportados por dia entre os nós $i$ e $j$, onde $i, j \\in \\{A, N, S, B\\}$.\n",
        "  - $x_{A,N}$: fluxo de A para Norte.\n",
        "  - $x_{A,S}$: fluxo de A para Sul.\n",
        "  - $x_{S,N}$: fluxo de Sul para Norte.\n",
        "  - $x_{N,B}$: fluxo de Norte para B.\n",
        "  - $x_{S,B}$: fluxo de Sul para B.\n",
        "\n",
        "---\n",
        "\n",
        "#### $(iii)$ Modelagem\n",
        "\n",
        "- **Função Objetivo**:\n",
        "  - **Maximizar o Fluxo Total**:\n",
        "  $$\n",
        "  \\max x_{N,B} + x_{S,B}\n",
        "  $$\n",
        "    - Maximiza o fluxo total de barris transportados de A para B.\n",
        "\n",
        "- **Restrições**:\n",
        "  1. **Capacidade Máxima nas Arestas**:\n",
        "     - Para cada ligação direta entre os nós:\n",
        "     $$\n",
        "     x_{A,N} \\leq 300, \\quad x_{A,S} \\leq 500, \\quad x_{S,N} \\leq 300, \\quad x_{N,B} \\leq 400, \\quad x_{S,B} \\leq 300\n",
        "     $$\n",
        "     - Garante que o fluxo em cada aresta não ultrapasse sua capacidade máxima.\n",
        "\n",
        "  2. **Conservação de Fluxo nos Nós**:\n",
        "     - **Norte**:\n",
        "     $$\n",
        "     x_{A,N} + x_{S,N} = x_{N,B}\n",
        "     $$\n",
        "     - **Sul**:\n",
        "     $$\n",
        "     x_{A,S} = x_{S,N} + x_{S,B}\n",
        "     $$\n",
        "\n",
        "  3. **Não Negatividade**:\n",
        "     $$\n",
        "     x_{ij} \\geq 0, \\quad \\forall i, j \\in \\{A, N, S, B\\}\n",
        "     $$\n",
        "     - O fluxo transportado em cada ligação deve ser não negativo.\n",
        "\n",
        "---\n",
        "\n",
        "*Observação: Na modelagem deste problema, a **função objetivo** foi definida como a soma dos **fluxos de entrada em $B$** ($x_{NB} + x_{SB}$) e não como a soma de todos os fluxos no grafo. Essa escolha reflete o objetivo principal do problema: **maximizar a quantidade de barris de óleo transportados da origem ($A$) ao destino final ($B$)**.*\n",
        "\n",
        "---\n",
        "\n",
        "### Modelo Matemático do Problema\n",
        "\n",
        "#### **Função Objetivo**\n",
        "**Maximizar o Fluxo Total**:\n",
        "$$\n",
        "\\max x_{N,B} + x_{S,B}\n",
        "$$\n",
        "\n",
        "#### **Restrições**\n",
        "1. **Capacidade das Arestas**:\n",
        "   $$\n",
        "   x_{A,N} \\leq 300, \\quad x_{A,S} \\leq 500, \\quad x_{S,N} \\leq 300, \\quad x_{N,B} \\leq 400, \\quad x_{S,B} \\leq 300\n",
        "   $$\n",
        "\n",
        "2. **Conservação de Fluxo no Nó Norte**:\n",
        "   $$\n",
        "   x_{A,N} + x_{S,N} = x_{N,B}\n",
        "   $$\n",
        "\n",
        "3. **Conservação de Fluxo no Nó Sul**:\n",
        "   $$\n",
        "   x_{A,S} = x_{S,N} + x_{S,B}\n",
        "   $$\n",
        "\n",
        "4. **Não Negatividade**:\n",
        "   $$\n",
        "   x_{ij} \\geq 0, \\quad \\forall i, j \\in \\{A, N, S, B\\}\n",
        "   $$\n",
        "\n",
        "---"
      ],
      "metadata": {
        "id": "iN06xJaQc4sW"
      }
    },
    {
      "cell_type": "markdown",
      "source": [
        "### Resolução do Problema"
      ],
      "metadata": {
        "id": "hmLgC4bQf6k6"
      }
    },
    {
      "cell_type": "markdown",
      "source": [
        "#### Instalação da biblioteca Gurobi"
      ],
      "metadata": {
        "id": "xKBt1mM0f_qs"
      }
    },
    {
      "cell_type": "code",
      "execution_count": 1,
      "metadata": {
        "colab": {
          "base_uri": "https://localhost:8080/"
        },
        "id": "Wv2ROTPbc3l2",
        "outputId": "012d8683-a3d3-440e-ca5a-c0a25b579c8d"
      },
      "outputs": [
        {
          "output_type": "stream",
          "name": "stdout",
          "text": [
            "Requirement already satisfied: gurobipy in /usr/local/lib/python3.10/dist-packages (12.0.0)\n"
          ]
        }
      ],
      "source": [
        "!pip install gurobipy"
      ]
    },
    {
      "cell_type": "code",
      "source": [
        "from gurobipy import Model, GRB\n",
        "\n",
        "# Criando o modelo\n",
        "model = Model(\"Empresa Transportadora de Óleos\")\n",
        "\n",
        "# Variáveis de decisão\n",
        "x_AN = model.addVar(lb=0, name=\"x_AN\")  # Fluxo de A para Norte\n",
        "x_AS = model.addVar(lb=0, name=\"x_AS\")  # Fluxo de A para Sul\n",
        "x_SN = model.addVar(lb=0, name=\"x_SN\")  # Fluxo de Sul para Norte\n",
        "x_NB = model.addVar(lb=0, name=\"x_NB\")  # Fluxo de Norte para B\n",
        "x_SB = model.addVar(lb=0, name=\"x_SB\")  # Fluxo de Sul para B\n",
        "\n",
        "# Função objetivo: Maximizar o fluxo para o nó B\n",
        "model.setObjective(x_NB + x_SB, GRB.MAXIMIZE)\n",
        "\n",
        "# Restrições de capacidade para cada aresta\n",
        "model.addConstr(x_AN <= 300, name=\"c_AN\")  # Capacidade de A para Norte\n",
        "model.addConstr(x_AS <= 500, name=\"c_AS\")  # Capacidade de A para Sul\n",
        "model.addConstr(x_SN <= 300, name=\"c_SN\")  # Capacidade de Sul para Norte\n",
        "model.addConstr(x_NB <= 400, name=\"c_NB\")  # Capacidade de Norte para B\n",
        "model.addConstr(x_SB <= 300, name=\"c_SB\")  # Capacidade de Sul para B\n",
        "\n",
        "# Restrições de conservação de fluxo\n",
        "model.addConstr(x_AN + x_SN == x_NB, name=\"Fluxo_Norte\")  # Fluxo no nó Norte\n",
        "model.addConstr(x_AS == x_SN + x_SB, name=\"Fluxo_Sul\")    # Fluxo no nó Sul\n",
        "\n",
        "# Otimização\n",
        "model.optimize()\n",
        "\n",
        "# Resultados\n",
        "if model.status == GRB.OPTIMAL:\n",
        "    print(f\"Fluxo Máximo: {model.objVal:.2f}\")\n",
        "    for x in model.getVars():\n",
        "        print(f\"{x.varName}: {x.X}\")\n"
      ],
      "metadata": {
        "colab": {
          "base_uri": "https://localhost:8080/"
        },
        "id": "emUU9dXBgF1X",
        "outputId": "e06cd5b4-dd78-4b2d-f2b0-dd2578f7053d"
      },
      "execution_count": 2,
      "outputs": [
        {
          "output_type": "stream",
          "name": "stdout",
          "text": [
            "Restricted license - for non-production use only - expires 2026-11-23\n",
            "Gurobi Optimizer version 12.0.0 build v12.0.0rc1 (linux64 - \"Ubuntu 22.04.3 LTS\")\n",
            "\n",
            "CPU model: Intel(R) Xeon(R) CPU @ 2.20GHz, instruction set [SSE2|AVX|AVX2]\n",
            "Thread count: 1 physical cores, 2 logical processors, using up to 2 threads\n",
            "\n",
            "Optimize a model with 7 rows, 5 columns and 11 nonzeros\n",
            "Model fingerprint: 0xdfb8879e\n",
            "Coefficient statistics:\n",
            "  Matrix range     [1e+00, 1e+00]\n",
            "  Objective range  [1e+00, 1e+00]\n",
            "  Bounds range     [0e+00, 0e+00]\n",
            "  RHS range        [3e+02, 5e+02]\n",
            "Presolve removed 5 rows and 1 columns\n",
            "Presolve time: 0.01s\n",
            "Presolved: 2 rows, 4 columns, 5 nonzeros\n",
            "\n",
            "Iteration    Objective       Primal Inf.    Dual Inf.      Time\n",
            "       0    7.0000000e+02   1.250000e+01   0.000000e+00      0s\n",
            "       1    7.0000000e+02   0.000000e+00   0.000000e+00      0s\n",
            "\n",
            "Solved in 1 iterations and 0.01 seconds (0.00 work units)\n",
            "Optimal objective  7.000000000e+02\n",
            "Fluxo Máximo: 700.00\n",
            "x_AN: 300.0\n",
            "x_AS: 400.0\n",
            "x_SN: 100.0\n",
            "x_NB: 400.0\n",
            "x_SB: 300.0\n"
          ]
        }
      ]
    },
    {
      "cell_type": "markdown",
      "source": [
        "### Análise de Sensibilidade"
      ],
      "metadata": {
        "id": "52d0r1a_kKmf"
      }
    },
    {
      "cell_type": "markdown",
      "source": [
        "#### Implementação da Análise de Sensibilidade com a Biblioteca *GurobiPy*"
      ],
      "metadata": {
        "id": "tY0HQ-K6kMYu"
      }
    },
    {
      "cell_type": "code",
      "source": [
        "# Análise de Sensibilidade\n",
        "if model.status == GRB.OPTIMAL:\n",
        "\n",
        "  # Valores das variáveis duais (Preços Sombra)\n",
        "  print(\"\\nSolução Ótima Dual:\")\n",
        "  for c in model.getConstrs():\n",
        "      print(f\"\\t{c.ConstrName} - Valor Dual (Pi): {c.Pi}\")\n",
        "\n",
        "  # Intervalos de Viabilidade dos Recursos (Capacidades das Arestas e Conservação de Fluxo)\n",
        "  print(\"\\nIntervalos de Recursos (Capacidades das Arestas e Conservação de Fluxo):\")\n",
        "  for c in model.getConstrs():\n",
        "      print(f\"\\t{c.ConstrName} [SARHSLower: {c.SARHSLow}, SARHSUpper: {c.SARHSUp}]\")\n",
        "\n",
        "  # Intervalos de Viabilidade dos Custos (Objetivo)\n",
        "  print(\"\\nIntervalos de Custos (Vetor de Custos):\")\n",
        "  for v in model.getVars():\n",
        "      print(f\"\\t{v.varName} [SAObjLow: {v.SAObjLow}, SAObjUp: {v.SAObjUp}]\")"
      ],
      "metadata": {
        "colab": {
          "base_uri": "https://localhost:8080/"
        },
        "id": "V5hBno6NkMzI",
        "outputId": "4a234fa0-2e38-4510-97a7-cd3f1288b977"
      },
      "execution_count": 3,
      "outputs": [
        {
          "output_type": "stream",
          "name": "stdout",
          "text": [
            "\n",
            "Solução Ótima Dual:\n",
            "\tc_AN - Valor Dual (Pi): -0.0\n",
            "\tc_AS - Valor Dual (Pi): 0.0\n",
            "\tc_SN - Valor Dual (Pi): 0.0\n",
            "\tc_NB - Valor Dual (Pi): 1.0\n",
            "\tc_SB - Valor Dual (Pi): 1.0\n",
            "\tFluxo_Norte - Valor Dual (Pi): -0.0\n",
            "\tFluxo_Sul - Valor Dual (Pi): -0.0\n",
            "\n",
            "Intervalos de Recursos (Capacidades das Arestas e Conservação de Fluxo):\n",
            "\tc_AN [SARHSLower: 200.0, SARHSUpper: 400.0]\n",
            "\tc_AS [SARHSLower: 400.0, SARHSUpper: inf]\n",
            "\tc_SN [SARHSLower: 100.0, SARHSUpper: inf]\n",
            "\tc_NB [SARHSLower: 300.0, SARHSUpper: 500.0]\n",
            "\tc_SB [SARHSLower: 0.0, SARHSUpper: 400.0]\n",
            "\tFluxo_Norte [SARHSLower: -100.0, SARHSUpper: 100.0]\n",
            "\tFluxo_Sul [SARHSLower: -400.0, SARHSUpper: 100.0]\n",
            "\n",
            "Intervalos de Custos (Vetor de Custos):\n",
            "\tx_AN [SAObjLow: -0.0, SAObjUp: inf]\n",
            "\tx_AS [SAObjLow: -1.0, SAObjUp: 0.0]\n",
            "\tx_SN [SAObjLow: -1.0, SAObjUp: 0.0]\n",
            "\tx_NB [SAObjLow: -0.0, SAObjUp: inf]\n",
            "\tx_SB [SAObjLow: -0.0, SAObjUp: inf]\n"
          ]
        }
      ]
    },
    {
      "cell_type": "markdown",
      "source": [
        "#### Interpretação da Análise de Sensibilidade\n",
        "\n",
        "1. **Arestas Críticas**:\n",
        "   - As arestas **$c_{NB}$** (Norte -> B) e **$c_{SB}$** (Sul -> B) são gargalos no sistema de transporte. Isso significa que suas capacidades estão totalmente utilizadas e limitam o fluxo máximo.\n",
        "   - Investir em aumentar a capacidade dessas arestas pode resultar diretamente em um aumento do fluxo máximo transportado.\n",
        "\n",
        "2. **Arestas com Folga**:\n",
        "   - As arestas **$c_{AN}$** (A -> Norte), **$c_{AS}$** (A -> Sul) e **$c_{SN}$** (Sul -> Norte) possuem folga em suas capacidades ou não estão totalmente utilizadas. Isso indica que aumentar suas capacidades não afetará o fluxo máximo atual.\n",
        "\n",
        "3. **Análise de Gargalos**:\n",
        "   - A análise de sensibilidade confirma que o limite do fluxo máximo é imposto pelas arestas de saída para o destino final (**Norte -> B** e **Sul -> B**).\n",
        "   - A capacidade da aresta intermediária (**Sul -> Norte**) também não é um gargalo, e há margem para aumentar o fluxo entre os intermediários sem afetar a solução ótima.\n",
        "\n",
        "4. **Investimentos Futuros**:\n",
        "   - Um aumento de 1 unidade na capacidade das arestas **$c_{NB}$** ou **$c_{SB}$** aumentaria diretamente o fluxo total em 1 barril por dia.\n",
        "   - Não há necessidade de expandir as capacidades de **$c_{AN}$**, **$c_{AS}$** ou **$c_{SN}$** no momento, pois essas arestas não são limitantes.\n",
        "  "
      ],
      "metadata": {
        "id": "9WChapKIoM3j"
      }
    }
  ]
}