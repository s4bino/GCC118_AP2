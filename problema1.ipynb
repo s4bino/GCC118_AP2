{
  "nbformat": 4,
  "nbformat_minor": 0,
  "metadata": {
    "colab": {
      "provenance": []
    },
    "kernelspec": {
      "name": "python3",
      "display_name": "Python 3"
    },
    "language_info": {
      "name": "python"
    }
  },
  "cells": [
    {
      "cell_type": "markdown",
      "source": [
        "# Programação Matemática (GCC118)\n",
        "## Universidade Federal de Lavras (UFLA)\n",
        "### Instituto de Ciências Exatas e Tecnológicas\n",
        "\n",
        "#### Grupo\n",
        "- Ranulfo Mascari Neto\n",
        "- Heitor Rodrigues Sabino"
      ],
      "metadata": {
        "id": "DPmjHl1xLxOI"
      }
    },
    {
      "cell_type": "markdown",
      "source": [
        "# Atividade Prática 2"
      ],
      "metadata": {
        "id": "ydeyNebzLzGn"
      }
    },
    {
      "cell_type": "markdown",
      "source": [
        "## Problema 1: Empresa de relógios\n",
        "\n",
        "### Descrição\n",
        "\n",
        "João, Ana e Lídia são os únicos sócios e trabalhadores em uma empresa que produz relógios de primeira qualidade. João e Ana podem dedicar no máximo **40 horas por semana** (cada um) à empresa, enquanto Lídia tem disponibilidade de, no máximo, **20 horas semanais**.\n",
        "\n",
        "A empresa fabrica dois tipos de relógios: **relógio de pedestal** (modelo antigo) e **relógio de parede**.\n",
        "\n",
        "#### Descrição das Atividades\n",
        "\n",
        "- **João** (engenheiro): Monta as peças mecânicas internas do relógio.\n",
        "- **Ana** (carpinteira): Produz as caixas de madeira esculpidas à mão.\n",
        "- **Lídia**: Responsável pelas encomendas e pela remessa dos relógios.\n",
        "\n",
        "#### Tempo Necessário para Produção\n",
        "\n",
        "| Tarefa                     | Relógio de Pedestal | Relógio de Parede |\n",
        "|----------------------------|---------------------|-------------------|\n",
        "| Montagem do mecanismo      | 6h                 | 4h               |\n",
        "| Caixa de madeira esculpida | 8h                 | 4h               |\n",
        "| Remessa                    | 3h                 | 3h               |\n",
        "\n",
        "#### Lucro Gerado por Relógio\n",
        "\n",
        "- Cada **relógio de pedestal** construído e despachado gera lucro de **R\\$ 300,00**.\n",
        "- Cada **relógio de parede** gera lucro de **R\\$ 200,00**.\n",
        "\n",
        "#### Objetivo\n",
        "\n",
        "Os três sócios querem determinar **quantos relógios de cada tipo devem ser produzidos semanalmente** para **maximizar o lucro total**."
      ],
      "metadata": {
        "id": "WBNnzzUYL6qg"
      }
    },
    {
      "cell_type": "markdown",
      "source": [
        "### 1. Implemente um modelo de programação linear, usando o *gurobipy*, e encontre a solução ótima do problema."
      ],
      "metadata": {
        "id": "quEEQ3OWQ9WQ"
      }
    },
    {
      "cell_type": "markdown",
      "source": [
        "#### Modelagem Matemática\n",
        "A seguir, apresentaremos a modelagem matemática deste problema, especificando os principais elementos da modelagem de um problema de programação matemática: $(i)$ parâmetros (dados); $(ii)$ variáveis de decisão; $(iii)$ modelagem, composta por uma função objetivo, restrições do problema e restrições de domínio das variáveis de decisão.\n",
        "\n",
        "##### $(i)$ Parâmetros\n",
        "\n",
        "- **Lucro por Relógio**:\n",
        "  - $ l_r \\in \\mathbb{R}_+ $: lucro (em R\\$) por unidade do relógio do tipo $ r $, onde $ r \\in R $.\n",
        "    - $ l_{pedestal} = 300 $\n",
        "    - $ l_{parede} = 200 $\n",
        "\n",
        "- **Tempo Necessário para Produção**:\n",
        "  - $ t_{w,r} \\in \\mathbb{R}_+ $: tempo necessário (em horas) para o trabalhador $ w $ produzir uma unidade do relógio do tipo $ r $, onde $ w \\in W $ e $ r \\in R $.\n",
        "    - **João** ($ w = joao $):\n",
        "      - $ t_{joao,pedestal} = 6 $\n",
        "      - $ t_{joao,parede} = 4 $\n",
        "    - **Ana** ($ w = ana $):\n",
        "      - $ t_{ana,pedestal} = 8 $\n",
        "      - $ t_{ana,parede} = 4 $\n",
        "    - **Lídia** ($ w = lidia $):\n",
        "      - $ t_{lidia,pedestal} = 3 $\n",
        "      - $ t_{lidia,parede} = 3 $\n",
        "\n",
        "- **Disponibilidade Máxima de Tempo**:\n",
        "  - $ d_w \\in \\mathbb{R}_+ $: disponibilidade máxima de horas semanais do trabalhador $ w $, onde $ w \\in W $.\n",
        "    - $ d_{joao} = 40 $\n",
        "    - $ d_{ana} = 40 $\n",
        "    - $ d_{lidia} = 20 $\n",
        "\n",
        "- **Conjuntos**:\n",
        "  - **Tipos de Relógio**:\n",
        "    - $ R = \\{pedestal, parede\\} $: conjunto dos tipos de relógios fabricados.\n",
        "  - **Trabalhadores**:\n",
        "    - $ W = \\{joao, ana, lidia\\} $: conjunto de trabalhadores responsáveis pela produção.\n",
        "\n",
        "##### $(ii)$ Variáveis de Decisão\n",
        "\n",
        "- $ x_r \\in \\mathbb{R}_+ $: quantidade de relógios do tipo $ r $ a serem produzidos, onde $ r \\in R $.\n",
        "  - $ x_{pedestal} $: quantidade de relógios de pedestal produzidos.\n",
        "  - $ x_{parede} $: quantidade de relógios de parede produzidos.\n",
        "  - *Observação: No contexto real, as quantidades de relógios produzidos ($x_r$) deveriam ser inteiras, ou seja, $x_r \\in \\mathbb{Z}_+$.*\n",
        "\n",
        "##### $(iii)$ Modelagem\n",
        "\n",
        "- **Função Objetivo**:\n",
        "  - **Maximizar o Lucro Total**:\n",
        "  $$\n",
        "  \\max \\sum_{r \\in R} l_r \\cdot x_r\n",
        "  $$\n",
        "    - Maximiza o lucro total gerado pela produção dos relógios.\n",
        "\n",
        "- **Restrições**:\n",
        "  1. **Tempo Disponível para Cada Trabalhador**:\n",
        "    $$\n",
        "    \\sum_{r \\in R} t_{w,r} \\cdot x_r \\leq d_w, \\quad \\forall w \\in W\n",
        "    $$\n",
        "    - Garante que o tempo gasto na produção por cada trabalhador não exceda sua disponibilidade semanal.\n",
        "\n",
        "  2. **Não Negatividade**:\n",
        "    $$\n",
        "    x_r \\geq 0, \\quad \\forall r \\in R\n",
        "    $$\n",
        "    - As quantidades de relógios a serem produzidas devem ser não negativas.\n",
        "\n",
        "---\n",
        "\n",
        "#### Modelo Matemático do Problema\n",
        "\n",
        "##### **Função Objetivo**\n",
        "**Maximizar o Lucro Total**:\n",
        "$$\n",
        "\\max 300 \\cdot x_{pedestal} + 200 \\cdot x_{parede}\n",
        "$$\n",
        "\n",
        "Essa função maximiza o lucro total gerado pela produção de relógios de pedestal e parede, considerando os lucros por unidade.\n",
        "\n",
        "##### **Restrições**\n",
        "1. **Tempo Disponível para João**:\n",
        "$$\n",
        "6 \\cdot x_{pedestal} + 4 \\cdot x_{parede} \\leq 40\n",
        "$$\n",
        "  - O tempo total gasto por João na produção de ambos os tipos de relógios não pode exceder sua disponibilidade semanal de 40 horas.\n",
        "\n",
        "2. **Tempo Disponível para Ana**:\n",
        "$$\n",
        "8 \\cdot x_{pedestal} + 4 \\cdot x_{parede} \\leq 40\n",
        "$$\n",
        "  - Ana também possui 40 horas disponíveis semanalmente para produção.\n",
        "\n",
        "3. **Tempo Disponível para Lídia**:\n",
        "$$\n",
        "3 \\cdot x_{pedestal} + 3 \\cdot x_{parede} \\leq 20\n",
        "$$\n",
        "  - Lídia tem apenas 20 horas semanais disponíveis, limitando sua capacidade produtiva.\n",
        "\n",
        "4. **Não Negatividade**:\n",
        "$$\n",
        "x_{pedestal} \\geq 0, \\quad x_{parede} \\geq 0\n",
        "$$\n",
        "  - As quantidades de relógios de pedestal e parede a serem produzidas devem ser números não negativos."
      ],
      "metadata": {
        "id": "bYVNWQQVSUOd"
      }
    },
    {
      "cell_type": "markdown",
      "source": [
        "#### Resolução do Problema"
      ],
      "metadata": {
        "id": "EeZG46kTaqKa"
      }
    },
    {
      "cell_type": "markdown",
      "source": [
        "#### Instalação da biblioteca Gurobi"
      ],
      "metadata": {
        "id": "zeFq1fkgZym_"
      }
    },
    {
      "cell_type": "code",
      "source": [
        "!pip install gurobipy"
      ],
      "metadata": {
        "colab": {
          "base_uri": "https://localhost:8080/"
        },
        "id": "seMlHpVBZxgW",
        "outputId": "834e8519-fabf-444b-fc7a-1547edf8de7c"
      },
      "execution_count": 1,
      "outputs": [
        {
          "output_type": "stream",
          "name": "stdout",
          "text": [
            "Requirement already satisfied: gurobipy in /usr/local/lib/python3.10/dist-packages (12.0.0)\n"
          ]
        }
      ]
    },
    {
      "cell_type": "code",
      "source": [
        "from gurobipy import Model, GRB\n",
        "\n",
        "# Conjuntos\n",
        "R = [\"Pedestal\", \"Parede\"] # Tipos de relógios\n",
        "W = [\"João\", \"Ana\", \"Lídia\"] # Trabalhadores\n",
        "\n",
        "# Parâmetros\n",
        "l = {\n",
        "    \"Pedestal\": 300,\n",
        "    \"Parede\": 200\n",
        "}\n",
        "\n",
        "t = {\n",
        "    \"João\": {\n",
        "        \"Pedestal\": 6,\n",
        "        \"Parede\": 4\n",
        "    },\n",
        "    \"Ana\": {\n",
        "        \"Pedestal\": 8,\n",
        "        \"Parede\": 4\n",
        "    },\n",
        "    \"Lídia\": {\n",
        "        \"Pedestal\": 3,\n",
        "        \"Parede\": 3\n",
        "    }\n",
        "}\n",
        "\n",
        "d = {\n",
        "    \"João\": 40,\n",
        "    \"Ana\": 40,\n",
        "    \"Lídia\": 20\n",
        "}\n",
        "\n",
        "# Criação do modelo\n",
        "model = Model(\"Maximização do Lucro - Produção de Relógios\")\n",
        "\n",
        "# Variáveis de decisão\n",
        "x = {r: model.addVar(vtype=GRB.CONTINUOUS, name=f\"x_{r}\") for r in R}\n",
        "\n",
        "# Função objetivo: Maximizar o lucro total\n",
        "model.setObjective(\n",
        "    sum(l[r] * x[r] for r in R),\n",
        "    GRB.MAXIMIZE\n",
        ")\n",
        "\n",
        "# Restrições de tempo para cada trabalhador\n",
        "for w in W:\n",
        "    model.addConstr(\n",
        "        sum(t[w][r] * x[r] for r in R) <= d[w],\n",
        "        name=f\"d_{w}\"\n",
        "    )\n",
        "\n",
        "# Resolução do modelo\n",
        "model.optimize()\n",
        "\n",
        "# Resultados\n",
        "if model.status == GRB.OPTIMAL:\n",
        "    print(\"\\nSolução Ótima:\")\n",
        "    print(\"\\nVariáveis de Decisão:\")\n",
        "    for r in R:\n",
        "        print(f\"\\t{r}: {x[r].x}\")\n",
        "    print(f\"\\tLucro Total: R$ {model.objVal:.2f}\")\n",
        "else:\n",
        "    print(\"Não foi encontrada solução ótima.\")\n"
      ],
      "metadata": {
        "colab": {
          "base_uri": "https://localhost:8080/"
        },
        "id": "BBE8J4VMXl7C",
        "outputId": "a2a12cb8-807e-468c-b03a-6afd51c651ab"
      },
      "execution_count": 2,
      "outputs": [
        {
          "output_type": "stream",
          "name": "stdout",
          "text": [
            "Restricted license - for non-production use only - expires 2026-11-23\n",
            "Gurobi Optimizer version 12.0.0 build v12.0.0rc1 (linux64 - \"Ubuntu 22.04.3 LTS\")\n",
            "\n",
            "CPU model: Intel(R) Xeon(R) CPU @ 2.20GHz, instruction set [SSE2|AVX|AVX2]\n",
            "Thread count: 1 physical cores, 2 logical processors, using up to 2 threads\n",
            "\n",
            "Optimize a model with 3 rows, 2 columns and 6 nonzeros\n",
            "Model fingerprint: 0x6103ff60\n",
            "Coefficient statistics:\n",
            "  Matrix range     [3e+00, 8e+00]\n",
            "  Objective range  [2e+02, 3e+02]\n",
            "  Bounds range     [0e+00, 0e+00]\n",
            "  RHS range        [2e+01, 4e+01]\n",
            "Presolve time: 0.01s\n",
            "Presolved: 3 rows, 2 columns, 6 nonzeros\n",
            "\n",
            "Iteration    Objective       Primal Inf.    Dual Inf.      Time\n",
            "       0    5.0000000e+32   4.250000e+30   5.000000e+02      0s\n",
            "       2    1.6666667e+03   0.000000e+00   0.000000e+00      0s\n",
            "\n",
            "Solved in 2 iterations and 0.02 seconds (0.00 work units)\n",
            "Optimal objective  1.666666667e+03\n",
            "\n",
            "Solução Ótima:\n",
            "\n",
            "Variáveis de Decisão:\n",
            "\tPedestal: 3.333333333333333\n",
            "\tParede: 3.3333333333333335\n",
            "\tLucro Total: R$ 1666.67\n"
          ]
        }
      ]
    },
    {
      "cell_type": "markdown",
      "source": [
        "### 2. Faça a análise de sensibilidade do modelo implementado, utilizando o *gurobipy*. Em sua resposta, **além de apresentar os valores, apresente uma explicação sobre o que os resultados indicam.**"
      ],
      "metadata": {
        "id": "NdzvNLUIRfEp"
      }
    },
    {
      "cell_type": "markdown",
      "source": [
        "#### Análise de Sensibilidade"
      ],
      "metadata": {
        "id": "2yL94wWqItSf"
      }
    },
    {
      "cell_type": "markdown",
      "source": [
        "##### Implementação da Análise de Sensibilidade com a Biblioteca *GurobiPy*"
      ],
      "metadata": {
        "id": "S6kq6JwbQ-QM"
      }
    },
    {
      "cell_type": "code",
      "source": [
        "# Análise de Sensibilidade\n",
        "\n",
        "# O modelo atingiu uma solução ótima\n",
        "if model.status == GRB.OPTIMAL:\n",
        "\n",
        "  # Valores das variáveis duais (Preços Sombra)\n",
        "  print(\"\\nSolução Ótima Dual:\")\n",
        "  for c in model.getConstrs():\n",
        "      print(f\"\\t{c.constrName} - Valor Dual (Pi): {c.Pi}\")\n",
        "\n",
        "  # Intervalos de viabilidade das tendências para o vetor de recursos\n",
        "  print(\"\\nIntervalos de Recursos (Vetor de Recursos):\")\n",
        "  for c in model.getConstrs():\n",
        "      print(f\"\\t{c.constrName} [SARHSLower: {c.SARHSLow}, SARHSUpper: {c.SARHSUp}]\")\n",
        "\n",
        "  # Intervalos de viabilidade das tendências para o vetor de custos\n",
        "  print(\"\\nIntervalos de Custos (Vetor de Custos):\")\n",
        "  for v in model.getVars():\n",
        "      print(f\"\\t{v.varName} [SAObjLow: {v.SAObjLow}, SAObjUp: {v.SAObjUp}]\")"
      ],
      "metadata": {
        "colab": {
          "base_uri": "https://localhost:8080/"
        },
        "id": "fX9fSdjtL418",
        "outputId": "f53d58b3-84a0-43db-a36b-b74a811fcda2"
      },
      "execution_count": 3,
      "outputs": [
        {
          "output_type": "stream",
          "name": "stdout",
          "text": [
            "\n",
            "Solução Ótima Dual:\n",
            "\td_João - Valor Dual (Pi): 0.0\n",
            "\td_Ana - Valor Dual (Pi): 25.0\n",
            "\td_Lídia - Valor Dual (Pi): 33.333333333333336\n",
            "\n",
            "Intervalos de Recursos (Vetor de Recursos):\n",
            "\td_João [SARHSLower: 33.333333333333336, SARHSUpper: inf]\n",
            "\td_Ana [SARHSLower: 26.666666666666668, SARHSUpper: 53.33333333333333]\n",
            "\td_Lídia [SARHSLower: 15.0, SARHSUpper: 30.0]\n",
            "\n",
            "Intervalos de Custos (Vetor de Custos):\n",
            "\tx_Pedestal [SAObjLow: 200.0, SAObjUp: 400.0]\n",
            "\tx_Parede [SAObjLow: 150.0, SAObjUp: 300.0]\n"
          ]
        }
      ]
    },
    {
      "cell_type": "markdown",
      "source": [
        "##### **Interpretação da Solução Ótima Dual**\n",
        "\n",
        "A **solução ótima dual** fornece informações sobre os valores das **variáveis duais** ($\\lambda$) associados às restrições do modelo. Esses valores indicam como o lucro total seria afetado por uma pequena alteração na disponibilidade de tempo ($d_w$) de cada trabalhador.\n",
        "\n",
        "###### Resultados\n",
        "1. **João ($d_{\\text{João}}$)**:\n",
        "   - **Valor Dual ($\\lambda_1 = 0.0$)**\n",
        "   - **Interpretação**:\n",
        "     - O tempo disponível de João ($d_{\\text{João}}$) **não é uma restrição ativa** na solução ótima.\n",
        "     - Isso significa que João ainda possui tempo ocioso, e aumentar ou reduzir sua disponibilidade **não impactará o lucro total**.\n",
        "\n",
        "2. **Ana ($d_{\\text{Ana}}$)**:\n",
        "   - **Valor Dual ($\\lambda_2 = 25.0$)**\n",
        "   - **Interpretação**:\n",
        "     - O tempo disponível de Ana ($d_{\\text{Ana}}$) **é uma restrição ativa**, ou seja, todo o tempo de Ana está sendo utilizado.\n",
        "     - Cada hora adicional disponível para Ana aumentaria o lucro total em **R\\$ 25,00**:\n",
        "       $$\n",
        "       \\frac{\\partial F(d)}{\\partial d_{\\text{Ana}}} = \\lambda_2 = 25\n",
        "       $$\n",
        "\n",
        "3. **Lídia ($d_{\\text{Lídia}}$)**:\n",
        "   - **Valor Dual ($\\lambda_3 = 33.33$)**\n",
        "   - **Interpretação**:\n",
        "     - O tempo disponível de Lídia ($d_{\\text{Lídia}}$) **é uma restrição ativa**, com todo o tempo sendo utilizado.\n",
        "     - Cada hora adicional disponível para Lídia aumentaria o lucro total em **R\\$ 33,33**:\n",
        "       $$\n",
        "       \\frac{\\partial F(d)}{\\partial d_{\\text{Lídia}}} = \\lambda_3 = 33.33\n",
        "       $$"
      ],
      "metadata": {
        "id": "WK2_3oeq-Psn"
      }
    },
    {
      "cell_type": "markdown",
      "source": [
        "##### **Análise de Sensibilidade à Perturbação no Vetor de Recursos**\n",
        "\n",
        "Os intervalos de variação de recursos indicam os valores mínimos (`SARHSLower`) e máximos (`SARHSUpper`) para o lado direito das restrições (RHS), vetor de recursos, dentro dos quais a solução básica do modelo permanecerá factível, garantindo que as *tendências* não se alterem. Dentro desses limites, a estrutura da solução ótima, como as variáveis básicas e não-básicas, permanecerá inalterada.\n",
        "\n",
        "**Disponibilidade Máxima de Tempo**: $ d_w \\in \\mathbb{R}_+ $: disponibilidade máxima de horas semanais do trabalhador $ w $, onde $ w \\in W $.\n",
        "- **João**: $d_{\\text{João}} \\in [33.33, \\infty]$\n",
        "  - A disponibilidade de João pode ser reduzida até 33.33 horas sem impactar a solução ótima. Não há limite superior para aumento.\n",
        "\n",
        "- **Ana**: $d_{\\text{Ana}} \\in [26.67, 53.33]$\n",
        "  - A disponibilidade de Ana deve permanecer entre 26.67 e 53.33 horas para que a solução ótima seja preservada.\n",
        "\n",
        "- **Lídia**: $d_{\\text{Lídia}} \\in [15.0, 30.0]$\n",
        "  - Lídia possui os limites mais restritos, indicando que pequenas alterações em sua disponibilidade podem alterar a solução ótima."
      ],
      "metadata": {
        "id": "rX7fl0JiQQMK"
      }
    },
    {
      "cell_type": "markdown",
      "source": [
        "##### Análise de Sensibilidade à Perturbação no Vetor de Custos\n",
        "\n",
        "### **Análise de Sensibilidade à Perturbação no Vetor de Custos**\n",
        "\n",
        "Os intervalos de sensibilidade ao custo indicam os valores mínimos (`SAObjLow`) e máximos (`SAObjUp`) para os coeficientes do vetor objetivo (lucros unitários das variáveis de decisão), dentro dos quais a solução básica do modelo permanece ótima. Dentro desses limites, a estrutura da solução ótima, incluindo as variáveis básicas e não-básicas, não será alterada.\n",
        "\n",
        "**Lucro Unitário**: $l_r \\in \\mathbb{R}_+$: lucro (em R\\$) por unidade do relógio do tipo $r$, onde $r \\in R$.\n",
        "\n",
        "- **Relógio de Pedestal**: $l_{\\text{Pedestal}} \\in [200.0, 400.0]$\n",
        "  - O lucro unitário do relógio de pedestal pode variar entre 200,00 e 400,00 reais sem impactar a solução ótima\n",
        "\n",
        "- **Relógio de Parede**: $l_{\\text{Parede}} \\in [150.0, 300.0]$\n",
        "  - O lucro unitário do relógio de parede pode variar entre 150,00 e 300,00 reais sem impactar a solução ótima.\n"
      ],
      "metadata": {
        "id": "7NW5T8zmQ04N"
      }
    },
    {
      "cell_type": "markdown",
      "source": [
        "***Observação***: *Os valores apresentados na análise foram arredondados para duas casas decimais, visando facilitar a interpretação e a clareza dos resultados.*"
      ],
      "metadata": {
        "id": "u5YFPEnWDfer"
      }
    },
    {
      "cell_type": "markdown",
      "source": [
        "### 3. Para aumentar o lucro total, os três sócios concordaram que um deles aumentará ligeiramente o número máximo de horas disponíveis por semana. A escolha de qual deles se baseará naquele que aumentaria mais o lucro total. Use os resultados da análise de sensibilidade para fazer essa escolha.\n",
        "\n",
        "Para determinar qual sócio deve aumentar ligeiramente o número máximo de horas disponíveis por semana e maximizar o impacto no lucro total, utilizamos os **valores duais ($\\lambda$)** fornecidos na solução ótima dual. Esses valores indicam o aumento no lucro total para cada unidade adicional (hora) do recurso disponibilizado por um sócio, desde que o aumento permaneça dentro dos intervalos de sensibilidade (`SARHSLower` e `SARHSUpper`).\n",
        "\n",
        "A sócia **Lídia** é a escolha ideal para aumentar o número de horas disponíveis, pois ela apresenta o maior valor dual ($\\lambda_3 = 33.33$), indicando que cada hora adicional trabalhada por ela aumentará o lucro total em R\\$ 33,33.\n",
        "\n",
        "Além disso, a análise de sensibilidade ($15.0 \\leq d_{\\text{Lídia}} \\leq 30.0$) revela que há margem para aumentar sua disponibilidade dentro desse intervalo sem alterar a estrutura ótima da solução, tornando essa decisão a mais eficiente para maximizar o lucro da empresa.\n"
      ],
      "metadata": {
        "id": "BRyjcmHRRiCv"
      }
    },
    {
      "cell_type": "markdown",
      "source": [
        "### 4. Existe alguma variável dual igual a zero? O que significa ter uma variável dual igual a zero?\n",
        "\n",
        "Sim, a variável dual associada ao tempo de João ($d_{\\text{João}}$) é igual a zero, ou seja, $\\lambda_1 = 0$.\n",
        "\n",
        "Uma variável dual igual a zero ($\\lambda_i = 0$) indica que a restrição correspondente **não está ativa** na solução ótima. Em termos práticos:\n",
        "  - O recurso associado à restrição (no caso, o tempo disponível de João, $d_{\\text{João}}$) **não está completamente utilizado**.\n",
        "  - Isso significa que João ainda tem **tempo ocioso** na solução ótima, e aumentar ou reduzir sua disponibilidade **não impactará o lucro total**.\n"
      ],
      "metadata": {
        "id": "Dn2zLrUmRmU_"
      }
    }
  ]
}